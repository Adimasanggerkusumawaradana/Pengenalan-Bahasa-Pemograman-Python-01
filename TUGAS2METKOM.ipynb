{
 "cells": [
  {
   "cell_type": "code",
   "execution_count": 4,
   "metadata": {},
   "outputs": [
    {
     "name": "stdout",
     "output_type": "stream",
     "text": [
      "Frekuensi yang diamati (Hz): 51.42857142857142\n"
     ]
    }
   ],
   "source": [
    "# Mendefinisikan fungsi efek_dopler\n",
    "def efek_dopler(fs, V, Vs, Vp):\n",
    "    # Menghitung pergeseran Doppler\n",
    "    fp = ((V + Vs) / (V + Vp)) * fs\n",
    "    return fp\n",
    "\n",
    "# Meminta input dari penagguna\n",
    "V = 340\n",
    "Vs = 20\n",
    "Vp = 10\n",
    "fs = 50\n",
    "\n",
    "# Memanggil fungsi efek_dopler untuk menghitung fp\n",
    "fp = efek_dopler(fs, V, Vs, Vp)\n",
    "\n",
    "# Menampilkan hasil\n",
    "print(\"Frekuensi yang diamati (Hz):\", fp)"
   ]
  },
  {
   "cell_type": "code",
   "execution_count": 5,
   "metadata": {},
   "outputs": [
    {
     "name": "stdout",
     "output_type": "stream",
     "text": [
      "Gaya gravitasi (N): 7.589399999999999e-10\n"
     ]
    }
   ],
   "source": [
    "#mendefiniskan persamaan Gaya Gravitasi Newton\n",
    "def Gaya_gravitasi(M1, M2, r, G):\n",
    "    F = G * ((M1 * M2) / (r**2))\n",
    "    return F\n",
    "#Memberikan input pengguna dengan variabel yang sudah di definisikan \n",
    "G = 6.672 * 10**-11\n",
    "M1 = 65\n",
    "M2 = 70\n",
    "r = 20\n",
    "#memanggil kembali persamaan Gaya gravitasi\n",
    "F = Gaya_gravitasi(M1, M2, r, G)\n",
    "#menampilkan hasil \n",
    "print(\"Gaya gravitasi (N):\", F)\n"
   ]
  },
  {
   "cell_type": "code",
   "execution_count": 3,
   "metadata": {},
   "outputs": [
    {
     "name": "stdout",
     "output_type": "stream",
     "text": [
      "Kecepatan gelombang badan (m/s): 0.9258200997725514\n"
     ]
    }
   ],
   "source": [
    "#mengimport modul numpy yang sudah terinstall\n",
    "import numpy as np\n",
    "#mendefinisikan persamaan kecepatan gelombang P\n",
    "def Kecepatan_gelombang_P(k,miu,p):\n",
    "    Vp = np.sqrt((k+(4/3)*miu)/p)\n",
    "    return Vp\n",
    "#meminta inpit dari pengguna\n",
    "k =float(input(\"masukan besar modulus bulk(N/m^2):\"))\n",
    "miu =float(input(\"masukan besar modulus geser(N/m^2):\"))\n",
    "p =float(input(\"masukan besar densitas (kg/m^3):\"))\n",
    "#memanggil kembali persamaan gelombang P\n",
    "Vp = Kecepatan_gelombang_P(k,miu,p)\n",
    "#menampilkan hasil\n",
    "print(\"Kecepatan gelombang badan (m/s):\", Vp)"
   ]
  },
  {
   "cell_type": "code",
   "execution_count": 7,
   "metadata": {},
   "outputs": [
    {
     "name": "stdout",
     "output_type": "stream",
     "text": [
      "nilai dengan index: B\n"
     ]
    }
   ],
   "source": [
    "nilai = float(input(\"memasukan nilai:\"))\n",
    "if nilai >= 90:\n",
    "    Hasil=\"A\"\n",
    "elif nilai >= 80:\n",
    "    Hasil=\"B\"\n",
    "elif nilai >= 50:\n",
    "    Hasil=\"C\"\n",
    "else :\n",
    "    Hasil=\"D\"\n",
    "print('nilai dengan index:',Hasil)\n",
    "    "
   ]
  },
  {
   "cell_type": "code",
   "execution_count": 11,
   "metadata": {},
   "outputs": [
    {
     "name": "stdout",
     "output_type": "stream",
     "text": [
      "Data diri orang-orang yang berusia di bawah 30 tahun:\n",
      "Nama: dimas\n",
      "Umur: 25\n",
      "Tinggi Badan: 160 cm\n",
      "Berat Badan: 55 kg\n",
      "BMI: 21.48\n",
      "Status Obesitas: Normal\n",
      "\n",
      "Nama: adi\n",
      "Umur: 22\n",
      "Tinggi Badan: 168 cm\n",
      "Berat Badan: 63 kg\n",
      "BMI: 22.32\n",
      "Status Obesitas: Normal\n",
      "\n",
      "Nama: kusuma\n",
      "Umur: 28\n",
      "Tinggi Badan: 180 cm\n",
      "Berat Badan: 75 kg\n",
      "BMI: 23.15\n",
      "Status Obesitas: Normal\n",
      "\n",
      "Nama: wardana\n",
      "Umur: 24\n",
      "Tinggi Badan: 162 cm\n",
      "Berat Badan: 58 kg\n",
      "BMI: 22.1\n",
      "Status Obesitas: Normal\n",
      "\n",
      "Nama: budi\n",
      "Umur: 29\n",
      "Tinggi Badan: 170 cm\n",
      "Berat Badan: 65 kg\n",
      "BMI: 22.49\n",
      "Status Obesitas: Normal\n",
      "\n",
      "Nama: slamet\n",
      "Umur: 26\n",
      "Tinggi Badan: 163 cm\n",
      "Berat Badan: 52 kg\n",
      "BMI: 19.57\n",
      "Status Obesitas: Normal\n",
      "\n",
      "Nama: bambang\n",
      "Umur: 27\n",
      "Tinggi Badan: 175 cm\n",
      "Berat Badan: 72 kg\n",
      "BMI: 23.51\n",
      "Status Obesitas: Normal\n",
      "\n",
      "Nama: kotel\n",
      "Umur: 23\n",
      "Tinggi Badan: 166 cm\n",
      "Berat Badan: 60 kg\n",
      "BMI: 21.77\n",
      "Status Obesitas: Normal\n",
      "\n",
      "Nama: kiwil\n",
      "Umur: 28\n",
      "Tinggi Badan: 164 cm\n",
      "Berat Badan: 53 kg\n",
      "BMI: 19.71\n",
      "Status Obesitas: Normal\n",
      "\n",
      "Nama: surip\n",
      "Umur: 25\n",
      "Tinggi Badan: 161 cm\n",
      "Berat Badan: 57 kg\n",
      "BMI: 21.99\n",
      "Status Obesitas: Normal\n",
      "\n",
      "Nama: Peter\n",
      "Umur: 29\n",
      "Tinggi Badan: 176 cm\n",
      "Berat Badan: 74 kg\n",
      "BMI: 23.89\n",
      "Status Obesitas: Normal\n",
      "\n",
      "Nama: pitir\n",
      "Umur: 24\n",
      "Tinggi Badan: 169 cm\n",
      "Berat Badan: 64 kg\n",
      "BMI: 22.41\n",
      "Status Obesitas: Normal\n",
      "\n",
      "Nama: pelor\n",
      "Umur: 27\n",
      "Tinggi Badan: 173 cm\n",
      "Berat Badan: 66 kg\n",
      "BMI: 22.05\n",
      "Status Obesitas: Normal\n",
      "\n",
      "Nama: Tom\n",
      "Umur: 26\n",
      "Tinggi Badan: 167 cm\n",
      "Berat Badan: 61 kg\n",
      "BMI: 21.87\n",
      "Status Obesitas: Normal\n",
      "\n"
     ]
    }
   ],
   "source": [
    "# Membuat list berisi data diri 20 orang\n",
    "short = [\n",
    "    [\"dimas\", 25, 160, 55],\n",
    "    [\"angger\", 30, 175, 70],\n",
    "    [\"adi\", 22, 168, 63],\n",
    "    [\"kusuma\", 28, 180, 75],\n",
    "    [\"wardana\", 24, 162, 58],\n",
    "    [\"andi\", 32, 178, 80],\n",
    "    [\"budi\", 29, 170, 65],\n",
    "    [\"slamet\", 26, 163, 52],\n",
    "    [\"bambang\", 27, 175, 72],\n",
    "    [\"paijo\", 31, 172, 68],\n",
    "    [\"kotel\", 23, 166, 60],\n",
    "    [\"mendel\", 30, 177, 77],\n",
    "    [\"kiwil\", 28, 164, 53],\n",
    "    [\"bolang\", 33, 182, 85],\n",
    "    [\"surip\", 25, 161, 57],\n",
    "    [\"Peter\", 29, 176, 74],\n",
    "    [\"pitir\", 24, 169, 64],\n",
    "    [\"pelor\", 27, 173, 66],\n",
    "    [\"Tom\", 26, 167, 61],\n",
    "    [\"jerry\", 31, 181, 78]\n",
    "]\n",
    "\n",
    "# Melakukan filter data untuk orang-orang yang berusia di bawah 30 tahun\n",
    "orang_muda = []\n",
    "for orang in short:\n",
    "    if orang[1] < 30:\n",
    "        orang_muda.append(orang)\n",
    "\n",
    "# Menampilkan data diri orang-orang yang berusia di bawah 30 tahun\n",
    "print(\"Data diri orang-orang yang berusia di bawah 30 tahun:\")\n",
    "for orang in orang_muda:\n",
    "    print(\"Nama:\", orang[0])\n",
    "    print(\"Umur:\", orang[1])\n",
    "    print(\"Tinggi Badan:\", orang[2], \"cm\")\n",
    "    print(\"Berat Badan:\", orang[3], \"kg\")\n",
    "    \n",
    "    # Menghitung BMI\n",
    "    tinggi_meter = orang[2] / 100  # Mengonversi tinggi dari cm ke meter\n",
    "    berat = orang[3]\n",
    "    bmi = berat / (tinggi_meter * tinggi_meter)\n",
    "    \n",
    "    # Menentukan status obesitas\n",
    "    if bmi < 18.5:\n",
    "        status = \"Kurus\"\n",
    "    elif 18.5 <= bmi < 24.9:\n",
    "        status = \"Normal\"\n",
    "    elif 25 <= bmi < 29.9:\n",
    "        status = \"Gemuk\"\n",
    "    else:\n",
    "        status = \"Obesitas\"\n",
    "    \n",
    "    print(\"BMI:\", round(bmi, 2))\n",
    "    print(\"Status Obesitas:\", status)\n",
    "    print()\n"
   ]
  },
  {
   "cell_type": "code",
   "execution_count": 2,
   "metadata": {},
   "outputs": [
    {
     "name": "stdout",
     "output_type": "stream",
     "text": [
      "Nama CAPRES 24: PRABOWO; Umur: 21; Berat Badan: 62; Tinggi Badan: 177\n"
     ]
    }
   ],
   "source": [
    "# Data member NCT disimpan dalam dictionary\n",
    "CAPRES_24 = {\n",
    "    'PAIJO': {\"Umur\": 25, \"Berat Badan\": 63, \"Tinggi Badan\": 184},\n",
    "    'PAIJEM': {\"Umur\": 22, \"Berat Badan\": 60, \"Tinggi Badan\": 175},\n",
    "    'SLAMET': {\"Umur\": 25, \"Berat Badan\": 65, \"Tinggi Badan\": 178},\n",
    "    'RDW': {\"Umur\": 26, \"Berat Badan\": 58, \"Tinggi Badan\": 175},\n",
    "    'SUSANTO': {\"Umur\": 21, \"Berat Badan\": 62, \"Tinggi Badan\": 177},\n",
    "    'SOEHARTO': {\"Umur\": 27, \"Berat Badan\": 61, \"Tinggi Badan\": 171},\n",
    "    'SOEKARNO': {\"Umur\": 26, \"Berat Badan\": 65, \"Tinggi Badan\": 178},\n",
    "    'HABIBI': {\"Umur\": 25, \"Berat Badan\": 60, \"Tinggi Badan\": 177},\n",
    "    'GUS DUR': {\"Umur\": 26, \"Berat Badan\": 65, \"Tinggi Badan\": 185},\n",
    "    'MEGAWATI': {\"Umur\": 22, \"Berat Badan\": 58, \"Tinggi Badan\": 175},\n",
    "    'SUSILO': {\"Umur\": 23, \"Berat Badan\": 72, \"Tinggi Badan\": 187},\n",
    "    'BAMBANG': {\"Umur\": 21, \"Berat Badan\": 59, \"Tinggi Badan\": 177},\n",
    "    'YUDOYONO': {\"Umur\": 19, \"Berat Badan\": 60, \"Tinggi Badan\": 180},\n",
    "    'JOKOWI': {\"Umur\": 23, \"Berat Badan\": 64, \"Tinggi Badan\": 178},\n",
    "    'PRABOWO': {\"Umur\": 21, \"Berat Badan\": 62, \"Tinggi Badan\": 177},\n",
    "    'ANIES': {\"Umur\": 26, \"Berat Badan\": 63, \"Tinggi Badan\": 172},\n",
    "    'GANJAR': {\"Umur\": 26, \"Berat Badan\": 64, \"Tinggi Badan\": 176},\n",
    "    'MUHAIMIN': {\"Umur\": 20, \"Berat Badan\": 61, \"Tinggi Badan\": 176},\n",
    "    'AHY': {\"Umur\": 23, \"Berat Badan\": 65, \"Tinggi Badan\": 178},\n",
    "    'AHOK': {\"Umur\": 22, \"Berat Badan\": 63, \"Tinggi Badan\": 175}\n",
    "}\n",
    "\n",
    "# Input nama member NCT\n",
    "nama = input('CAPRES_24')\n",
    "\n",
    "# Mengecek apakah nama ada dalam dictionary\n",
    "if nama in CAPRES_24:\n",
    "    info = CAPRES_24[nama]\n",
    "    print(f\"Nama CAPRES 24: {nama}; Umur: {info['Umur']}; Berat Badan: {info['Berat Badan']}; Tinggi Badan: {info['Tinggi Badan']}\")\n",
    "else:\n",
    "    print('BUKAN CAPRES.')"
   ]
  }
 ],
 "metadata": {
  "kernelspec": {
   "display_name": "Python 3",
   "language": "python",
   "name": "python3"
  },
  "language_info": {
   "codemirror_mode": {
    "name": "ipython",
    "version": 3
   },
   "file_extension": ".py",
   "mimetype": "text/x-python",
   "name": "python",
   "nbconvert_exporter": "python",
   "pygments_lexer": "ipython3",
   "version": "3.11.5"
  },
  "orig_nbformat": 4
 },
 "nbformat": 4,
 "nbformat_minor": 2
}
